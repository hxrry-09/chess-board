{
 "cells": [
  {
   "cell_type": "code",
   "execution_count": 3,
   "metadata": {},
   "outputs": [
    {
     "name": "stdout",
     "output_type": "stream",
     "text": [
      "pygame 2.1.2 (SDL 2.0.18, Python 3.9.15)\n",
      "Hello from the pygame community. https://www.pygame.org/contribute.html\n"
     ]
    }
   ],
   "source": [
    "import pygame"
   ]
  },
  {
   "cell_type": "code",
   "execution_count": 4,
   "metadata": {},
   "outputs": [
    {
     "ename": "KeyboardInterrupt",
     "evalue": "",
     "output_type": "error",
     "traceback": [
      "\u001b[1;31m---------------------------------------------------------------------------\u001b[0m",
      "\u001b[1;31mKeyboardInterrupt\u001b[0m                         Traceback (most recent call last)",
      "Cell \u001b[1;32mIn[4], line 54\u001b[0m\n\u001b[0;32m     51\u001b[0m pygame\u001b[39m.\u001b[39mdisplay\u001b[39m.\u001b[39mflip()\n\u001b[0;32m     53\u001b[0m \u001b[39mwhile\u001b[39;00m \u001b[39mTrue\u001b[39;00m:\n\u001b[1;32m---> 54\u001b[0m     \u001b[39mfor\u001b[39;00m event \u001b[39min\u001b[39;00m pygame\u001b[39m.\u001b[39;49mevent\u001b[39m.\u001b[39;49mget():\n\u001b[0;32m     55\u001b[0m         \u001b[39mif\u001b[39;00m event\u001b[39m.\u001b[39mtype \u001b[39m==\u001b[39m pygame\u001b[39m.\u001b[39mQUIT:\n\u001b[0;32m     56\u001b[0m             pygame\u001b[39m.\u001b[39mquit()\n",
      "\u001b[1;31mKeyboardInterrupt\u001b[0m: "
     ]
    }
   ],
   "source": [
    "pygame.init()\n",
    "\n",
    "screen = pygame.display.set_mode((800, 800))\n",
    "\n",
    "white_pawn = pygame.transform.scale(pygame.image.load(r\"C:\\Users\\harry\\Downloads\\JohnPablok Cburnett Chess Zip\\JohnPablok Cburnett Chess set\\PNGs\\With Shadow\\256px\\w_pawn_png_shadow_256px.png\") , (100,100))\n",
    "white_king = pygame.transform.scale(pygame.image.load(r\"C:\\Users\\harry\\Downloads\\JohnPablok Cburnett Chess Zip\\JohnPablok Cburnett Chess set\\PNGs\\With Shadow\\256px\\w_king_png_shadow_256px.png\") , (100,100))\n",
    "white_knight = pygame.transform.scale(pygame.image.load(r\"C:\\Users\\harry\\Downloads\\JohnPablok Cburnett Chess Zip\\JohnPablok Cburnett Chess set\\PNGs\\With Shadow\\256px\\w_knight_png_shadow_256px.png\") , (100,100))\n",
    "white_rook = pygame.transform.scale(pygame.image.load(r\"C:\\Users\\harry\\Downloads\\JohnPablok Cburnett Chess Zip\\JohnPablok Cburnett Chess set\\PNGs\\With Shadow\\256px\\w_rook_png_shadow_256px.png\") , (100,100))\n",
    "white_bishop = pygame.transform.scale(pygame.image.load(r\"C:\\Users\\harry\\Downloads\\JohnPablok Cburnett Chess Zip\\JohnPablok Cburnett Chess set\\PNGs\\With Shadow\\256px\\w_bishop_png_shadow_256px.png\") , (100,100))\n",
    "white_queen = pygame.transform.scale(pygame.image.load(r\"C:\\Users\\harry\\Downloads\\JohnPablok Cburnett Chess Zip\\JohnPablok Cburnett Chess set\\PNGs\\With Shadow\\256px\\w_queen_png_shadow_256px.png\") , (100,100))\n",
    "\n",
    "#___________________________________________________________\n",
    "\n",
    "black_pawn = pygame.transform.scale(pygame.image.load(r\"C:\\Users\\harry\\Downloads\\JohnPablok Cburnett Chess Zip\\JohnPablok Cburnett Chess set\\PNGs\\With Shadow\\256px\\b_pawn_png_shadow_256px.png\") , (100,100))\n",
    "black_king = pygame.transform.scale(pygame.image.load(r\"C:\\Users\\harry\\Downloads\\JohnPablok Cburnett Chess Zip\\JohnPablok Cburnett Chess set\\PNGs\\With Shadow\\256px\\b_king_png_shadow_256px.png\") , (100,100))\n",
    "black_knight = pygame.transform.scale(pygame.image.load(r\"C:\\Users\\harry\\Downloads\\JohnPablok Cburnett Chess Zip\\JohnPablok Cburnett Chess set\\PNGs\\With Shadow\\256px\\b_knight_png_shadow_256px.png\") , (100,100))\n",
    "black_rook = pygame.transform.scale(pygame.image.load(r\"C:\\Users\\harry\\Downloads\\JohnPablok Cburnett Chess Zip\\JohnPablok Cburnett Chess set\\PNGs\\With Shadow\\256px\\b_rook_png_shadow_256px.png\") , (100,100))\n",
    "black_queen = pygame.transform.scale(pygame.image.load(r\"C:\\Users\\harry\\Downloads\\JohnPablok Cburnett Chess Zip\\JohnPablok Cburnett Chess set\\PNGs\\With Shadow\\256px\\b_queen_png_shadow_256px.png\") , (100,100))\n",
    "black_bishop = pygame.transform.scale(pygame.image.load(r\"C:\\Users\\harry\\Downloads\\JohnPablok Cburnett Chess Zip\\JohnPablok Cburnett Chess set\\PNGs\\With Shadow\\256px\\b_bishop_png_shadow_256px.png\") , (100,100))\n",
    "\n",
    "SQUARE_SIZE = 100\n",
    "\n",
    "WHITE = (255, 255, 255)\n",
    "DARK_WOOD = (204, 210, 255)\n",
    "\n",
    "board = [\n",
    "    [black_rook, black_knight, black_bishop, black_queen, black_king, black_bishop, black_knight, black_rook],\n",
    "    [black_pawn, black_pawn, black_pawn, black_pawn, black_pawn, black_pawn, black_pawn, black_pawn],\n",
    "    [None, None, None, None, None, None, None, None],\n",
    "    [None, None, None, None, None, None, None, None],\n",
    "    [None, None, None, None, None, None, None, None],\n",
    "    [None, None, None, None, None, None, None, None],\n",
    "    [white_pawn, white_pawn, white_pawn, white_pawn, white_pawn, white_pawn, white_pawn, white_pawn],\n",
    "    [white_rook, white_knight, white_bishop, white_queen, white_king, white_bishop, white_knight, white_rook]\n",
    "]\n",
    "\n",
    "for row in range(8):\n",
    "    for col in range(8):\n",
    "        x = col * SQUARE_SIZE\n",
    "        y = row * SQUARE_SIZE\n",
    "        color = WHITE if (row + col) % 2 == 0 else DARK_WOOD\n",
    "        pygame.draw.rect(screen, color, (x, y, SQUARE_SIZE, SQUARE_SIZE))\n",
    "\n",
    "piece_positions = {}\n",
    "for row in range(8):\n",
    "    for col in range(8):\n",
    "        piece = board[row][col]\n",
    "        if piece is not None:\n",
    "            piece_positions[piece] = (row, col)    \n",
    "\n",
    "pygame.display.flip()\n",
    "\n",
    "while True:\n",
    "    for event in pygame.event.get():\n",
    "        if event.type == pygame.QUIT:\n",
    "            pygame.quit()\n",
    "            quit()\n",
    "\n"
   ]
  },
  {
   "cell_type": "code",
   "execution_count": null,
   "metadata": {},
   "outputs": [],
   "source": []
  }
 ],
 "metadata": {
  "kernelspec": {
   "display_name": "game",
   "language": "python",
   "name": "python3"
  },
  "language_info": {
   "codemirror_mode": {
    "name": "ipython",
    "version": 3
   },
   "file_extension": ".py",
   "mimetype": "text/x-python",
   "name": "python",
   "nbconvert_exporter": "python",
   "pygments_lexer": "ipython3",
   "version": "3.9.15"
  },
  "orig_nbformat": 4
 },
 "nbformat": 4,
 "nbformat_minor": 2
}
